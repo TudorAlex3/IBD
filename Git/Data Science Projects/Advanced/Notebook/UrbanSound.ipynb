{
  "nbformat": 4,
  "nbformat_minor": 0,
  "metadata": {
    "colab": {
      "provenance": []
    },
    "kernelspec": {
      "name": "python3",
      "display_name": "Python 3"
    },
    "language_info": {
      "name": "python"
    }
  },
  "cells": [
    {
      "cell_type": "code",
      "execution_count": 3,
      "metadata": {
        "id": "gb3SQfuXwj_H"
      },
      "outputs": [],
      "source": [
        "# Import necessary libraries\n",
        "import pandas as pd\n",
        "import numpy as np\n",
        "import matplotlib.pyplot as plt\n",
        "import seaborn as sns\n",
        "from sklearn.model_selection import train_test_split\n",
        "from sklearn.preprocessing import LabelEncoder, StandardScaler\n",
        "from sklearn.linear_model import LogisticRegression\n",
        "from sklearn.tree import DecisionTreeClassifier\n",
        "from sklearn.ensemble import RandomForestClassifier\n",
        "from sklearn.metrics import accuracy_score, confusion_matrix, classification_report\n",
        "from sklearn.metrics import precision_score, recall_score, f1_score, roc_auc_score\n",
        "from sklearn.datasets import load_iris\n",
        "import os\n",
        "import warnings\n",
        "warnings.filterwarnings(\"ignore\")"
      ]
    },
    {
      "cell_type": "code",
      "source": [
        "from google.colab import drive\n",
        "drive.mount('/content/drive')"
      ],
      "metadata": {
        "colab": {
          "base_uri": "https://localhost:8080/"
        },
        "id": "FFVLfl-Pwq_w",
        "outputId": "d9c2960e-757d-4f88-94ff-b2ee1bf290de"
      },
      "execution_count": 1,
      "outputs": [
        {
          "output_type": "stream",
          "name": "stdout",
          "text": [
            "Mounted at /content/drive\n"
          ]
        }
      ]
    },
    {
      "cell_type": "code",
      "source": [
        "# Step 1: Load the dataset\n",
        "\n",
        "file_path = \"/content/drive/MyDrive/Data Science Projects/App/app/static/UrbanSound8K.csv\"\n",
        "data = pd.read_csv(file_path)\n",
        "output_path = os.path.join(\"/content/drive/MyDrive/Data Science Projects/App/app/static\")\n",
        "os.makedirs(output_path, exist_ok=True)"
      ],
      "metadata": {
        "id": "eb2O-hscw4Cn"
      },
      "execution_count": 4,
      "outputs": []
    },
    {
      "cell_type": "code",
      "source": [
        "# Step 2: Explore the data\n",
        "\n",
        "print(\"Data Head:\\n\", data.head())\n",
        "print(\"\\nData Info:\\n\", data.info())\n",
        "print(\"\\nData Description:\\n\", data.describe())\n"
      ],
      "metadata": {
        "colab": {
          "base_uri": "https://localhost:8080/"
        },
        "id": "Lk46sA4nxAIC",
        "outputId": "29bb01dd-713b-4ba9-e33c-4e3b472bfa88"
      },
      "execution_count": 5,
      "outputs": [
        {
          "output_type": "stream",
          "name": "stdout",
          "text": [
            "Data Head:\n",
            "       slice_file_name    fsID  start        end  salience  fold  classID  \\\n",
            "0    100032-3-0-0.wav  100032    0.0   0.317551         1     5        3   \n",
            "1  100263-2-0-117.wav  100263   58.5  62.500000         1     5        2   \n",
            "2  100263-2-0-121.wav  100263   60.5  64.500000         1     5        2   \n",
            "3  100263-2-0-126.wav  100263   63.0  67.000000         1     5        2   \n",
            "4  100263-2-0-137.wav  100263   68.5  72.500000         1     5        2   \n",
            "\n",
            "              class  \n",
            "0          dog_bark  \n",
            "1  children_playing  \n",
            "2  children_playing  \n",
            "3  children_playing  \n",
            "4  children_playing  \n",
            "<class 'pandas.core.frame.DataFrame'>\n",
            "RangeIndex: 8732 entries, 0 to 8731\n",
            "Data columns (total 8 columns):\n",
            " #   Column           Non-Null Count  Dtype  \n",
            "---  ------           --------------  -----  \n",
            " 0   slice_file_name  8732 non-null   object \n",
            " 1   fsID             8732 non-null   int64  \n",
            " 2   start            8732 non-null   float64\n",
            " 3   end              8732 non-null   float64\n",
            " 4   salience         8732 non-null   int64  \n",
            " 5   fold             8732 non-null   int64  \n",
            " 6   classID          8732 non-null   int64  \n",
            " 7   class            8732 non-null   object \n",
            "dtypes: float64(2), int64(4), object(2)\n",
            "memory usage: 545.9+ KB\n",
            "\n",
            "Data Info:\n",
            " None\n",
            "\n",
            "Data Description:\n",
            "                 fsID        start          end     salience         fold  \\\n",
            "count    8732.000000  8732.000000  8732.000000  8732.000000  8732.000000   \n",
            "mean   116033.493816    38.645409    42.253312     1.347000     5.385937   \n",
            "std     57991.017218    74.292126    74.369669     0.476043     2.846820   \n",
            "min       344.000000     0.000000     0.105962     1.000000     1.000000   \n",
            "25%     69942.250000     3.000000     6.839398     1.000000     3.000000   \n",
            "50%    118279.000000    10.376492    14.000000     1.000000     5.000000   \n",
            "75%    166942.000000    35.131372    38.866979     2.000000     8.000000   \n",
            "max    209992.000000   600.125356   604.125356     2.000000    10.000000   \n",
            "\n",
            "           classID  \n",
            "count  8732.000000  \n",
            "mean      4.592877  \n",
            "std       2.894544  \n",
            "min       0.000000  \n",
            "25%       2.000000  \n",
            "50%       4.000000  \n",
            "75%       7.000000  \n",
            "max       9.000000  \n"
          ]
        }
      ]
    },
    {
      "cell_type": "code",
      "source": [
        "# Step 3: Column details\n",
        "\n",
        "print(\"\\nColumn Details:\")\n",
        "for col in data.columns:\n",
        "    print(f\"Column: {col}, Type: {data[col].dtype}, Unique values: {data[col].nunique()}\")\n"
      ],
      "metadata": {
        "colab": {
          "base_uri": "https://localhost:8080/"
        },
        "id": "uAo4oYCHxBVz",
        "outputId": "c3c516b1-a489-4684-ee28-8ac6b9e77020"
      },
      "execution_count": 6,
      "outputs": [
        {
          "output_type": "stream",
          "name": "stdout",
          "text": [
            "\n",
            "Column Details:\n",
            "Column: slice_file_name, Type: object, Unique values: 8732\n",
            "Column: fsID, Type: int64, Unique values: 1297\n",
            "Column: start, Type: float64, Unique values: 4878\n",
            "Column: end, Type: float64, Unique values: 5020\n",
            "Column: salience, Type: int64, Unique values: 2\n",
            "Column: fold, Type: int64, Unique values: 10\n",
            "Column: classID, Type: int64, Unique values: 10\n",
            "Column: class, Type: object, Unique values: 10\n"
          ]
        }
      ]
    },
    {
      "cell_type": "code",
      "source": [
        "# Step 4: Visualize histograms for each numerical column\n",
        "\n",
        "data.hist(bins=15, figsize=(10, 8))\n",
        "plt.suptitle(\"Histograms for Numerical Columns\")\n",
        "# plt.show()\n",
        "plt.savefig(os.path.join(output_path, \"urban_histograms.png\"))\n"
      ],
      "metadata": {
        "colab": {
          "base_uri": "https://localhost:8080/",
          "height": 756
        },
        "id": "uTpHV0QwxC71",
        "outputId": "debf6a10-5d0c-4750-9fae-f0f05b108484"
      },
      "execution_count": 7,
      "outputs": [
        {
          "output_type": "display_data",
          "data": {
            "text/plain": [
              "<Figure size 1000x800 with 6 Axes>"
            ],
            "image/png": "[encoded data removed]"
          },
          "metadata": {}
        }
      ]
    },
    {
      "cell_type": "code",
      "source": [
        "# Step 5: Handle missing values\n",
        "\n",
        "# Display the number of missing values per column\n",
        "print(\"Number of missing values in each column before filling:\")\n",
        "print(data.isnull().sum())\n",
        "\n",
        "# Save the mean values for numerical columns with missing values\n",
        "mean_values_with_na = data.mean(numeric_only=True)\n",
        "\n",
        "# Save the mode values for categorical columns with missing values\n",
        "mode_values_with_na = data.mode().iloc[0]"
      ],
      "metadata": {
        "colab": {
          "base_uri": "https://localhost:8080/"
        },
        "id": "c4jFswmtxE20",
        "outputId": "d5e34fdc-d02f-4d64-c6b3-7ab24fd4ad33"
      },
      "execution_count": 8,
      "outputs": [
        {
          "output_type": "stream",
          "name": "stdout",
          "text": [
            "Number of missing values in each column before filling:\n",
            "slice_file_name    0\n",
            "fsID               0\n",
            "start              0\n",
            "end                0\n",
            "salience           0\n",
            "fold               0\n",
            "classID            0\n",
            "class              0\n",
            "dtype: int64\n"
          ]
        }
      ]
    },
    {
      "cell_type": "code",
      "source": [
        "# Fill missing values with the mean of numerical columns and mode of categorical columns\n",
        "for column in data.columns:\n",
        "    if data[column].dtype == 'object':  # Categorical columns\n",
        "        if data[column].isnull().any():\n",
        "            data[column].fillna(mode_values_with_na[column], inplace=True)\n",
        "    else:  # Numerical columns\n",
        "        if data[column].isnull().any():\n",
        "            data[column].fillna(mean_values_with_na[column], inplace=True)\n"
      ],
      "metadata": {
        "id": "ErvfUa_1xHiS"
      },
      "execution_count": 9,
      "outputs": []
    },
    {
      "cell_type": "code",
      "source": [
        "# Display the mean/mode values used to fill each column with missing values\n",
        "print(\"\\nValues used to fill columns with missing values:\")\n",
        "for column in data.columns:\n",
        "    if data[column].dtype == 'object':  # Categorical columns\n",
        "        if column in mode_values_with_na:\n",
        "            print(f\"{column}: {mode_values_with_na[column]}\")\n",
        "    else:  # Numerical columns\n",
        "        if column in mean_values_with_na:\n",
        "            print(f\"{column}: {mean_values_with_na[column]}\")\n"
      ],
      "metadata": {
        "colab": {
          "base_uri": "https://localhost:8080/"
        },
        "id": "3Axw4g6zxIr-",
        "outputId": "bfc8814f-1cb6-44a3-b1ef-cabc2ae1f107"
      },
      "execution_count": 10,
      "outputs": [
        {
          "output_type": "stream",
          "name": "stdout",
          "text": [
            "\n",
            "Values used to fill columns with missing values:\n",
            "slice_file_name: 100032-3-0-0.wav\n",
            "fsID: 116033.49381584975\n",
            "start: 38.64540855187815\n",
            "end: 42.25331229638113\n",
            "salience: 1.3469995419147962\n",
            "fold: 5.385936784241869\n",
            "classID: 4.592876775080165\n",
            "class: air_conditioner\n"
          ]
        }
      ]
    },
    {
      "cell_type": "code",
      "source": [
        "# Step 6: Identify and remove outliers using IQR (Interquartile Range)\n",
        "\n",
        "# Identifying outliers for each numeric column\n",
        "outlier_columns = []\n",
        "outliers_dict = {}\n",
        "\n",
        "# Iterate over each numeric column in the dataset\n",
        "for feature in data.select_dtypes(include=[np.number]).columns:\n",
        "    # Calculate Q1 (25th percentile), Q3 (75th percentile), and IQR (Interquartile Range)\n",
        "    Q1 = data[feature].quantile(0.25)  # 25th percentile\n",
        "    Q3 = data[feature].quantile(0.75)  # 75th percentile\n",
        "    IQR = Q3 - Q1  # Interquartile Range (difference between Q3 and Q1)\n",
        "\n",
        "    # Identify outliers using the IQR rule: values lower than Q1 - 1.5 * IQR or higher than Q3 + 1.5 * IQR\n",
        "    outlier_mask = (data[feature] < (Q1 - 1.5 * IQR)) | (data[feature] > (Q3 + 1.5 * IQR))\n",
        "\n",
        "    # If there are any outliers for this feature, store them in the outliers_dict\n",
        "    if outlier_mask.any():  # If there is at least one outlier\n",
        "        outliers_dict[feature] = data[outlier_mask]  # Store outliers in the dictionary\n",
        "        outlier_columns.append(feature)  # Add the feature name to the outlier_columns list\n"
      ],
      "metadata": {
        "id": "v1lzqq4yxKKR"
      },
      "execution_count": 11,
      "outputs": []
    },
    {
      "cell_type": "code",
      "source": [
        "# Generate scatter plots only for the columns that contain outliers\n",
        "for feature in outlier_columns:\n",
        "    plt.figure(figsize=(8, 6))  # Create a figure for the scatter plot\n",
        "\n",
        "    # Plot all data points (excluding outliers) for the feature\n",
        "    non_outliers = data[~outlier_mask]  # Data without outliers\n",
        "    plt.scatter(non_outliers.index, non_outliers[feature], color='skyblue', label=\"Data\", alpha=0.7)\n",
        "\n",
        "    # Plot the outliers in red\n",
        "    outliers = outliers_dict[feature]  # Get the outliers for the current feature\n",
        "    plt.scatter(outliers.index, outliers[feature], color='red', label=\"Outliers\", s=100, marker='X')\n",
        "\n",
        "    # Set title and labels for the plot\n",
        "    plt.title(f\"Scatter Plot for {feature} with Outliers in Red\")\n",
        "    plt.xlabel('Index')\n",
        "    plt.ylabel(feature)\n",
        "    plt.legend()\n",
        "    # plt.show()\n",
        "    plot_filename = f\"urban_scatter_{feature}.png\"  # Use feature name in the file\n",
        "    plt.savefig(os.path.join(output_path, plot_filename))\n",
        "\n",
        "    # Print the outliers detected for the current feature\n",
        "    print(f\"\\nOutliers Detected for {feature}:\")\n",
        "    print(outliers)\n"
      ],
      "metadata": {
        "id": "0VnOicNExLcp"
      },
      "execution_count": null,
      "outputs": []
    },
    {
      "cell_type": "code",
      "source": [
        "# Visualize the original data with a pairplot (including outliers)\n",
        "sns.pairplot(data, hue='classID', plot_kws={'alpha': 0.5})\n",
        "plt.suptitle(\"Pairplot of Features with classID Class Labels (Including Outliers)\", y=1.02)\n",
        "# plt.show()\n",
        "plt.savefig(os.path.join(output_path, \"urban_outliers_classID.png\"))\n",
        "\n",
        "sns.pairplot(data, hue='class', plot_kws={'alpha': 0.5})\n",
        "plt.suptitle(\"Pairplot of Features with class Class Labels (Including Outliers)\", y=1.02)\n",
        "# plt.show()\n",
        "plt.savefig(os.path.join(output_path, \"urban_outliers_class.png\"))\n",
        "\n",
        "sns.pairplot(data, hue='fold', plot_kws={'alpha': 0.5})\n",
        "plt.suptitle(\"Pairplot of Features with fold Class Labels (Including Outliers)\", y=1.02)\n",
        "# plt.show()\n",
        "plt.savefig(os.path.join(output_path, \"urban_outliers_fold.png\"))\n",
        "\n",
        "sns.pairplot(data, hue='salience', plot_kws={'alpha': 0.5})\n",
        "plt.suptitle(\"Pairplot of Features with salience Class Labels (Including Outliers)\", y=1.02)\n",
        "# plt.show()\n",
        "plt.savefig(os.path.join(output_path, \"urban_outliers_salience.png\"))"
      ],
      "metadata": {
        "id": "qaVEMDz6xL3J"
      },
      "execution_count": null,
      "outputs": []
    },
    {
      "cell_type": "code",
      "source": [
        "# Remove the outliers from the dataset\n",
        "\n",
        "cleaned_data = data.copy()\n",
        "\n",
        "# Loop through outlier columns to remove outliers\n",
        "for feature in outlier_columns:\n",
        "    outliers = outliers_dict[feature]  # Get outliers for the current feature\n",
        "    cleaned_data = cleaned_data[~cleaned_data.index.isin(outliers.index)]  # Remove rows with outliers\n"
      ],
      "metadata": {
        "id": "iY7Auu-ixNtE"
      },
      "execution_count": 12,
      "outputs": []
    },
    {
      "cell_type": "code",
      "source": [
        "# Visualize the cleaned data with a pairplot (after removing outliers)\n",
        "sns.pairplot(cleaned_data, hue='classID', plot_kws={'alpha': 0.5})\n",
        "plt.suptitle(\"Pairplot of Features with classID Class Labels (After Removing Outliers)\", y=1.02)\n",
        "# plt.show()\n",
        "plt.savefig(os.path.join(output_path, \"urban_removed_outliers_classID.png\"))\n",
        "\n",
        "sns.pairplot(cleaned_data, hue='class', plot_kws={'alpha': 0.5})\n",
        "plt.suptitle(\"Pairplot of Features with classID Class Labels (After Removing Outliers)\", y=1.02)\n",
        "# plt.show()\n",
        "plt.savefig(os.path.join(output_path, \"urban_removed_outliers_class.png\"))\n",
        "\n",
        "sns.pairplot(cleaned_data, hue='fold', plot_kws={'alpha': 0.5})\n",
        "plt.suptitle(\"Pairplot of Features with fold Class Labels (After Removing Outliers)\", y=1.02)\n",
        "# plt.show()\n",
        "plt.savefig(os.path.join(output_path, \"urban_removed_outliers_fold.png\"))\n",
        "\n",
        "sns.pairplot(cleaned_data, hue='salience', plot_kws={'alpha': 0.5})\n",
        "plt.suptitle(\"Pairplot of Features with salience Class Labels (After Removing Outliers)\", y=1.02)\n",
        "# plt.show()\n",
        "plt.savefig(os.path.join(output_path, \"urban_removed_outliers_salience.png\"))\n"
      ],
      "metadata": {
        "id": "I3KCVevNxQXi"
      },
      "execution_count": null,
      "outputs": []
    },
    {
      "cell_type": "code",
      "source": [
        "# Step 8: Preprocess the data\n",
        "\n",
        "# Encode the target variable\n",
        "label_encoder = LabelEncoder()\n",
        "data['classID'] = label_encoder.fit_transform(data['classID'])"
      ],
      "metadata": {
        "id": "QtL_10PExQxf"
      },
      "execution_count": 13,
      "outputs": []
    },
    {
      "cell_type": "code",
      "source": [
        "# Step 9: Handle non-numeric columns in X\n",
        "\n",
        "# Convert categorical features to numeric using one-hot encoding or label encoding\n",
        "# Here we use LabelEncoder for each categorical column (excluding the target 'classID')\n",
        "for column in data.select_dtypes(include=['object']).columns:\n",
        "    if column != 'classID':  # Avoid encoding the target variable\n",
        "        label_encoder = LabelEncoder()\n",
        "        data[column] = label_encoder.fit_transform(data[column])"
      ],
      "metadata": {
        "id": "z6TSL0bpxSNV"
      },
      "execution_count": 14,
      "outputs": []
    },
    {
      "cell_type": "code",
      "source": [
        "# Step 10: Define features (X) and target (y)\n",
        "\n",
        "X = data.drop(columns=['classID'])  # Features\n",
        "y = data['classID']  # Target variable\n",
        "\n",
        "# Step 11: Split data into training and testing sets\n",
        "\n",
        "X_train, X_test, y_train, y_test = train_test_split(X, y, test_size=0.2, random_state=42)\n"
      ],
      "metadata": {
        "id": "fiB5rS7KxUsC"
      },
      "execution_count": 15,
      "outputs": []
    },
    {
      "cell_type": "code",
      "source": [
        "# Step 11: Feature scaling\n",
        "\n",
        "scaler = StandardScaler()\n",
        "X_train = scaler.fit_transform(X_train)\n",
        "X_test = scaler.transform(X_test)\n",
        "\n"
      ],
      "metadata": {
        "id": "yQpa3oMfxWQO"
      },
      "execution_count": 17,
      "outputs": []
    },
    {
      "cell_type": "code",
      "source": [
        "# Step 12: Model selection and training\n",
        "\n",
        "# Logistic Regression\n",
        "logistic_model = LogisticRegression()\n",
        "logistic_model.fit(X_train, y_train)\n",
        "\n",
        "# Decision Tree\n",
        "tree_model = DecisionTreeClassifier(random_state=42)\n",
        "tree_model.fit(X_train, y_train)\n",
        "\n",
        "# Random Forest\n",
        "rf_model = RandomForestClassifier(random_state=42, n_estimators=100)\n",
        "rf_model.fit(X_train, y_train)"
      ],
      "metadata": {
        "colab": {
          "base_uri": "https://localhost:8080/",
          "height": 80
        },
        "id": "iLsgWEEvxZe_",
        "outputId": "bc5f8179-3dcb-42c2-f13d-1667232264a7"
      },
      "execution_count": 18,
      "outputs": [
        {
          "output_type": "execute_result",
          "data": {
            "text/plain": [
              "RandomForestClassifier(random_state=42)"
            ],
            "text/html": [
              "<style>#sk-container-id-1 {\n",
              "  /* Definition of color scheme common for light and dark mode */\n",
              "  --sklearn-color-text: #000;\n",
              "  --sklearn-color-text-muted: #666;\n",
              "  --sklearn-color-line: gray;\n",
              "  /* Definition of color scheme for unfitted estimators */\n",
              "  --sklearn-color-unfitted-level-0: #fff5e6;\n",
              "  --sklearn-color-unfitted-level-1: #f6e4d2;\n",
              "  --sklearn-color-unfitted-level-2: #ffe0b3;\n",
              "  --sklearn-color-unfitted-level-3: chocolate;\n",
              "  /* Definition of color scheme for fitted estimators */\n",
              "  --sklearn-color-fitted-level-0: #f0f8ff;\n",
              "  --sklearn-color-fitted-level-1: #d4ebff;\n",
              "  --sklearn-color-fitted-level-2: #b3dbfd;\n",
              "  --sklearn-color-fitted-level-3: cornflowerblue;\n",
              "\n",
              "  /* Specific color for light theme */\n",
              "  --sklearn-color-text-on-default-background: var(--sg-text-color, var(--theme-code-foreground, var(--jp-content-font-color1, black)));\n",
              "  --sklearn-color-background: var(--sg-background-color, var(--theme-background, var(--jp-layout-color0, white)));\n",
              "  --sklearn-color-border-box: var(--sg-text-color, var(--theme-code-foreground, var(--jp-content-font-color1, black)));\n",
              "  --sklearn-color-icon: #696969;\n",
              "\n",
              "  @media (prefers-color-scheme: dark) {\n",
              "    /* Redefinition of color scheme for dark theme */\n",
              "    --sklearn-color-text-on-default-background: var(--sg-text-color, var(--theme-code-foreground, var(--jp-content-font-color1, white)));\n",
              "    --sklearn-color-background: var(--sg-background-color, var(--theme-background, var(--jp-layout-color0, #111)));\n",
              "    --sklearn-color-border-box: var(--sg-text-color, var(--theme-code-foreground, var(--jp-content-font-color1, white)));\n",
              "    --sklearn-color-icon: #878787;\n",
              "  }\n",
              "}\n",
              "\n",
              "#sk-container-id-1 {\n",
              "  color: var(--sklearn-color-text);\n",
              "}\n",
              "\n",
              "#sk-container-id-1 pre {\n",
              "  padding: 0;\n",
              "}\n",
              "\n",
              "#sk-container-id-1 input.sk-hidden--visually {\n",
              "  border: 0;\n",
              "  clip: rect(1px 1px 1px 1px);\n",
              "  clip: rect(1px, 1px, 1px, 1px);\n",
              "  height: 1px;\n",
              "  margin: -1px;\n",
              "  overflow: hidden;\n",
              "  padding: 0;\n",
              "  position: absolute;\n",
              "  width: 1px;\n",
              "}\n",
              "\n",
              "#sk-container-id-1 div.sk-dashed-wrapped {\n",
              "  border: 1px dashed var(--sklearn-color-line);\n",
              "  margin: 0 0.4em 0.5em 0.4em;\n",
              "  box-sizing: border-box;\n",
              "  padding-bottom: 0.4em;\n",
              "  background-color: var(--sklearn-color-background);\n",
              "}\n",
              "\n",
              "#sk-container-id-1 div.sk-container {\n",
              "  /* jupyter's `normalize.less` sets `[hidden] { display: none; }`\n",
              "     but bootstrap.min.css set `[hidden] { display: none !important; }`\n",
              "     so we also need the `!important` here to be able to override the\n",
              "     default hidden behavior on the sphinx rendered scikit-learn.org.\n",
              "     See: https://github.com/scikit-learn/scikit-learn/issues/21755 */\n",
              "  display: inline-block !important;\n",
              "  position: relative;\n",
              "}\n",
              "\n",
              "#sk-container-id-1 div.sk-text-repr-fallback {\n",
              "  display: none;\n",
              "}\n",
              "\n",
              "div.sk-parallel-item,\n",
              "div.sk-serial,\n",
              "div.sk-item {\n",
              "  /* draw centered vertical line to link estimators */\n",
              "  background-image: linear-gradient(var(--sklearn-color-text-on-default-background), var(--sklearn-color-text-on-default-background));\n",
              "  background-size: 2px 100%;\n",
              "  background-repeat: no-repeat;\n",
              "  background-position: center center;\n",
              "}\n",
              "\n",
              "/* Parallel-specific style estimator block */\n",
              "\n",
              "#sk-container-id-1 div.sk-parallel-item::after {\n",
              "  content: \"\";\n",
              "  width: 100%;\n",
              "  border-bottom: 2px solid var(--sklearn-color-text-on-default-background);\n",
              "  flex-grow: 1;\n",
              "}\n",
              "\n",
              "#sk-container-id-1 div.sk-parallel {\n",
              "  display: flex;\n",
              "  align-items: stretch;\n",
              "  justify-content: center;\n",
              "  background-color: var(--sklearn-color-background);\n",
              "  position: relative;\n",
              "}\n",
              "\n",
              "#sk-container-id-1 div.sk-parallel-item {\n",
              "  display: flex;\n",
              "  flex-direction: column;\n",
              "}\n",
              "\n",
              "#sk-container-id-1 div.sk-parallel-item:first-child::after {\n",
              "  align-self: flex-end;\n",
              "  width: 50%;\n",
              "}\n",
              "\n",
              "#sk-container-id-1 div.sk-parallel-item:last-child::after {\n",
              "  align-self: flex-start;\n",
              "  width: 50%;\n",
              "}\n",
              "\n",
              "#sk-container-id-1 div.sk-parallel-item:only-child::after {\n",
              "  width: 0;\n",
              "}\n",
              "\n",
              "/* Serial-specific style estimator block */\n",
              "\n",
              "#sk-container-id-1 div.sk-serial {\n",
              "  display: flex;\n",
              "  flex-direction: column;\n",
              "  align-items: center;\n",
              "  background-color: var(--sklearn-color-background);\n",
              "  padding-right: 1em;\n",
              "  padding-left: 1em;\n",
              "}\n",
              "\n",
              "\n",
              "/* Toggleable style: style used for estimator/Pipeline/ColumnTransformer box that is\n",
              "clickable and can be expanded/collapsed.\n",
              "- Pipeline and ColumnTransformer use this feature and define the default style\n",
              "- Estimators will overwrite some part of the style using the `sk-estimator` class\n",
              "*/\n",
              "\n",
              "/* Pipeline and ColumnTransformer style (default) */\n",
              "\n",
              "#sk-container-id-1 div.sk-toggleable {\n",
              "  /* Default theme specific background. It is overwritten whether we have a\n",
              "  specific estimator or a Pipeline/ColumnTransformer */\n",
              "  background-color: var(--sklearn-color-background);\n",
              "}\n",
              "\n",
              "/* Toggleable label */\n",
              "#sk-container-id-1 label.sk-toggleable__label {\n",
              "  cursor: pointer;\n",
              "  display: flex;\n",
              "  width: 100%;\n",
              "  margin-bottom: 0;\n",
              "  padding: 0.5em;\n",
              "  box-sizing: border-box;\n",
              "  text-align: center;\n",
              "  align-items: start;\n",
              "  justify-content: space-between;\n",
              "  gap: 0.5em;\n",
              "}\n",
              "\n",
              "#sk-container-id-1 label.sk-toggleable__label .caption {\n",
              "  font-size: 0.6rem;\n",
              "  font-weight: lighter;\n",
              "  color: var(--sklearn-color-text-muted);\n",
              "}\n",
              "\n",
              "#sk-container-id-1 label.sk-toggleable__label-arrow:before {\n",
              "  /* Arrow on the left of the label */\n",
              "  content: \"▸\";\n",
              "  float: left;\n",
              "  margin-right: 0.25em;\n",
              "  color: var(--sklearn-color-icon);\n",
              "}\n",
              "\n",
              "#sk-container-id-1 label.sk-toggleable__label-arrow:hover:before {\n",
              "  color: var(--sklearn-color-text);\n",
              "}\n",
              "\n",
              "/* Toggleable content - dropdown */\n",
              "\n",
              "#sk-container-id-1 div.sk-toggleable__content {\n",
              "  max-height: 0;\n",
              "  max-width: 0;\n",
              "  overflow: hidden;\n",
              "  text-align: left;\n",
              "  /* unfitted */\n",
              "  background-color: var(--sklearn-color-unfitted-level-0);\n",
              "}\n",
              "\n",
              "#sk-container-id-1 div.sk-toggleable__content.fitted {\n",
              "  /* fitted */\n",
              "  background-color: var(--sklearn-color-fitted-level-0);\n",
              "}\n",
              "\n",
              "#sk-container-id-1 div.sk-toggleable__content pre {\n",
              "  margin: 0.2em;\n",
              "  border-radius: 0.25em;\n",
              "  color: var(--sklearn-color-text);\n",
              "  /* unfitted */\n",
              "  background-color: var(--sklearn-color-unfitted-level-0);\n",
              "}\n",
              "\n",
              "#sk-container-id-1 div.sk-toggleable__content.fitted pre {\n",
              "  /* unfitted */\n",
              "  background-color: var(--sklearn-color-fitted-level-0);\n",
              "}\n",
              "\n",
              "#sk-container-id-1 input.sk-toggleable__control:checked~div.sk-toggleable__content {\n",
              "  /* Expand drop-down */\n",
              "  max-height: 200px;\n",
              "  max-width: 100%;\n",
              "  overflow: auto;\n",
              "}\n",
              "\n",
              "#sk-container-id-1 input.sk-toggleable__control:checked~label.sk-toggleable__label-arrow:before {\n",
              "  content: \"▾\";\n",
              "}\n",
              "\n",
              "/* Pipeline/ColumnTransformer-specific style */\n",
              "\n",
              "#sk-container-id-1 div.sk-label input.sk-toggleable__control:checked~label.sk-toggleable__label {\n",
              "  color: var(--sklearn-color-text);\n",
              "  background-color: var(--sklearn-color-unfitted-level-2);\n",
              "}\n",
              "\n",
              "#sk-container-id-1 div.sk-label.fitted input.sk-toggleable__control:checked~label.sk-toggleable__label {\n",
              "  background-color: var(--sklearn-color-fitted-level-2);\n",
              "}\n",
              "\n",
              "/* Estimator-specific style */\n",
              "\n",
              "/* Colorize estimator box */\n",
              "#sk-container-id-1 div.sk-estimator input.sk-toggleable__control:checked~label.sk-toggleable__label {\n",
              "  /* unfitted */\n",
              "  background-color: var(--sklearn-color-unfitted-level-2);\n",
              "}\n",
              "\n",
              "#sk-container-id-1 div.sk-estimator.fitted input.sk-toggleable__control:checked~label.sk-toggleable__label {\n",
              "  /* fitted */\n",
              "  background-color: var(--sklearn-color-fitted-level-2);\n",
              "}\n",
              "\n",
              "#sk-container-id-1 div.sk-label label.sk-toggleable__label,\n",
              "#sk-container-id-1 div.sk-label label {\n",
              "  /* The background is the default theme color */\n",
              "  color: var(--sklearn-color-text-on-default-background);\n",
              "}\n",
              "\n",
              "/* On hover, darken the color of the background */\n",
              "#sk-container-id-1 div.sk-label:hover label.sk-toggleable__label {\n",
              "  color: var(--sklearn-color-text);\n",
              "  background-color: var(--sklearn-color-unfitted-level-2);\n",
              "}\n",
              "\n",
              "/* Label box, darken color on hover, fitted */\n",
              "#sk-container-id-1 div.sk-label.fitted:hover label.sk-toggleable__label.fitted {\n",
              "  color: var(--sklearn-color-text);\n",
              "  background-color: var(--sklearn-color-fitted-level-2);\n",
              "}\n",
              "\n",
              "/* Estimator label */\n",
              "\n",
              "#sk-container-id-1 div.sk-label label {\n",
              "  font-family: monospace;\n",
              "  font-weight: bold;\n",
              "  display: inline-block;\n",
              "  line-height: 1.2em;\n",
              "}\n",
              "\n",
              "#sk-container-id-1 div.sk-label-container {\n",
              "  text-align: center;\n",
              "}\n",
              "\n",
              "/* Estimator-specific */\n",
              "#sk-container-id-1 div.sk-estimator {\n",
              "  font-family: monospace;\n",
              "  border: 1px dotted var(--sklearn-color-border-box);\n",
              "  border-radius: 0.25em;\n",
              "  box-sizing: border-box;\n",
              "  margin-bottom: 0.5em;\n",
              "  /* unfitted */\n",
              "  background-color: var(--sklearn-color-unfitted-level-0);\n",
              "}\n",
              "\n",
              "#sk-container-id-1 div.sk-estimator.fitted {\n",
              "  /* fitted */\n",
              "  background-color: var(--sklearn-color-fitted-level-0);\n",
              "}\n",
              "\n",
              "/* on hover */\n",
              "#sk-container-id-1 div.sk-estimator:hover {\n",
              "  /* unfitted */\n",
              "  background-color: var(--sklearn-color-unfitted-level-2);\n",
              "}\n",
              "\n",
              "#sk-container-id-1 div.sk-estimator.fitted:hover {\n",
              "  /* fitted */\n",
              "  background-color: var(--sklearn-color-fitted-level-2);\n",
              "}\n",
              "\n",
              "/* Specification for estimator info (e.g. \"i\" and \"?\") */\n",
              "\n",
              "/* Common style for \"i\" and \"?\" */\n",
              "\n",
              ".sk-estimator-doc-link,\n",
              "a:link.sk-estimator-doc-link,\n",
              "a:visited.sk-estimator-doc-link {\n",
              "  float: right;\n",
              "  font-size: smaller;\n",
              "  line-height: 1em;\n",
              "  font-family: monospace;\n",
              "  background-color: var(--sklearn-color-background);\n",
              "  border-radius: 1em;\n",
              "  height: 1em;\n",
              "  width: 1em;\n",
              "  text-decoration: none !important;\n",
              "  margin-left: 0.5em;\n",
              "  text-align: center;\n",
              "  /* unfitted */\n",
              "  border: var(--sklearn-color-unfitted-level-1) 1pt solid;\n",
              "  color: var(--sklearn-color-unfitted-level-1);\n",
              "}\n",
              "\n",
              ".sk-estimator-doc-link.fitted,\n",
              "a:link.sk-estimator-doc-link.fitted,\n",
              "a:visited.sk-estimator-doc-link.fitted {\n",
              "  /* fitted */\n",
              "  border: var(--sklearn-color-fitted-level-1) 1pt solid;\n",
              "  color: var(--sklearn-color-fitted-level-1);\n",
              "}\n",
              "\n",
              "/* On hover */\n",
              "div.sk-estimator:hover .sk-estimator-doc-link:hover,\n",
              ".sk-estimator-doc-link:hover,\n",
              "div.sk-label-container:hover .sk-estimator-doc-link:hover,\n",
              ".sk-estimator-doc-link:hover {\n",
              "  /* unfitted */\n",
              "  background-color: var(--sklearn-color-unfitted-level-3);\n",
              "  color: var(--sklearn-color-background);\n",
              "  text-decoration: none;\n",
              "}\n",
              "\n",
              "div.sk-estimator.fitted:hover .sk-estimator-doc-link.fitted:hover,\n",
              ".sk-estimator-doc-link.fitted:hover,\n",
              "div.sk-label-container:hover .sk-estimator-doc-link.fitted:hover,\n",
              ".sk-estimator-doc-link.fitted:hover {\n",
              "  /* fitted */\n",
              "  background-color: var(--sklearn-color-fitted-level-3);\n",
              "  color: var(--sklearn-color-background);\n",
              "  text-decoration: none;\n",
              "}\n",
              "\n",
              "/* Span, style for the box shown on hovering the info icon */\n",
              ".sk-estimator-doc-link span {\n",
              "  display: none;\n",
              "  z-index: 9999;\n",
              "  position: relative;\n",
              "  font-weight: normal;\n",
              "  right: .2ex;\n",
              "  padding: .5ex;\n",
              "  margin: .5ex;\n",
              "  width: min-content;\n",
              "  min-width: 20ex;\n",
              "  max-width: 50ex;\n",
              "  color: var(--sklearn-color-text);\n",
              "  box-shadow: 2pt 2pt 4pt #999;\n",
              "  /* unfitted */\n",
              "  background: var(--sklearn-color-unfitted-level-0);\n",
              "  border: .5pt solid var(--sklearn-color-unfitted-level-3);\n",
              "}\n",
              "\n",
              ".sk-estimator-doc-link.fitted span {\n",
              "  /* fitted */\n",
              "  background: var(--sklearn-color-fitted-level-0);\n",
              "  border: var(--sklearn-color-fitted-level-3);\n",
              "}\n",
              "\n",
              ".sk-estimator-doc-link:hover span {\n",
              "  display: block;\n",
              "}\n",
              "\n",
              "/* \"?\"-specific style due to the `<a>` HTML tag */\n",
              "\n",
              "#sk-container-id-1 a.estimator_doc_link {\n",
              "  float: right;\n",
              "  font-size: 1rem;\n",
              "  line-height: 1em;\n",
              "  font-family: monospace;\n",
              "  background-color: var(--sklearn-color-background);\n",
              "  border-radius: 1rem;\n",
              "  height: 1rem;\n",
              "  width: 1rem;\n",
              "  text-decoration: none;\n",
              "  /* unfitted */\n",
              "  color: var(--sklearn-color-unfitted-level-1);\n",
              "  border: var(--sklearn-color-unfitted-level-1) 1pt solid;\n",
              "}\n",
              "\n",
              "#sk-container-id-1 a.estimator_doc_link.fitted {\n",
              "  /* fitted */\n",
              "  border: var(--sklearn-color-fitted-level-1) 1pt solid;\n",
              "  color: var(--sklearn-color-fitted-level-1);\n",
              "}\n",
              "\n",
              "/* On hover */\n",
              "#sk-container-id-1 a.estimator_doc_link:hover {\n",
              "  /* unfitted */\n",
              "  background-color: var(--sklearn-color-unfitted-level-3);\n",
              "  color: var(--sklearn-color-background);\n",
              "  text-decoration: none;\n",
              "}\n",
              "\n",
              "#sk-container-id-1 a.estimator_doc_link.fitted:hover {\n",
              "  /* fitted */\n",
              "  background-color: var(--sklearn-color-fitted-level-3);\n",
              "}\n",
              "</style><div id=\"sk-container-id-1\" class=\"sk-top-container\"><div class=\"sk-text-repr-fallback\"><pre>RandomForestClassifier(random_state=42)</pre><b>In a Jupyter environment, please rerun this cell to show the HTML representation or trust the notebook. <br />On GitHub, the HTML representation is unable to render, please try loading this page with nbviewer.org.</b></div><div class=\"sk-container\" hidden><div class=\"sk-item\"><div class=\"sk-estimator fitted sk-toggleable\"><input class=\"sk-toggleable__control sk-hidden--visually\" id=\"sk-estimator-id-1\" type=\"checkbox\" checked><label for=\"sk-estimator-id-1\" class=\"sk-toggleable__label fitted sk-toggleable__label-arrow\"><div><div>RandomForestClassifier</div></div><div><a class=\"sk-estimator-doc-link fitted\" rel=\"noreferrer\" target=\"_blank\" href=\"https://scikit-learn.org/1.6/modules/generated/sklearn.ensemble.RandomForestClassifier.html\">?<span>Documentation for RandomForestClassifier</span></a><span class=\"sk-estimator-doc-link fitted\">i<span>Fitted</span></span></div></label><div class=\"sk-toggleable__content fitted\"><pre>RandomForestClassifier(random_state=42)</pre></div> </div></div></div></div>"
            ]
          },
          "metadata": {},
          "execution_count": 18
        }
      ]
    },
    {
      "cell_type": "code",
      "source": [
        "# Step 13: Model evaluation\n",
        "\n",
        "models = {\n",
        "    \"Logistic Regression\": logistic_model,\n",
        "    \"Decision Tree\": tree_model,\n",
        "    \"Random Forest\": rf_model\n",
        "}"
      ],
      "metadata": {
        "id": "rrdn9xulxaD4"
      },
      "execution_count": 19,
      "outputs": []
    },
    {
      "cell_type": "code",
      "source": [
        "# Step 14: Display metrics\n",
        "\n",
        "# Initialize dictionaries for storing metrics\n",
        "accuracy_scores = []\n",
        "precision_scores = []\n",
        "recall_scores = []\n",
        "f1_scores = []\n",
        "conf_matrices = {}\n",
        "class_reports = {}\n",
        "\n",
        "# Calculate metrics for each model\n",
        "for model_name, model in models.items():\n",
        "    pred = model.predict(X_test)\n",
        "    accuracy = accuracy_score(y_test, pred)\n",
        "    precision = precision_score(y_test, pred, average=\"weighted\")\n",
        "    recall = recall_score(y_test, pred, average=\"weighted\")\n",
        "    f1 = f1_score(y_test, pred, average=\"weighted\")\n",
        "\n",
        "    # Append metric scores\n",
        "    accuracy_scores.append(accuracy)\n",
        "    precision_scores.append(precision)\n",
        "    recall_scores.append(recall)\n",
        "    f1_scores.append(f1)\n",
        "\n",
        "    # Store confusion matrices and classification reports if needed\n",
        "    conf_matrices[model_name] = confusion_matrix(y_test, pred)\n",
        "    class_reports[model_name] = classification_report(y_test, pred)\n"
      ],
      "metadata": {
        "id": "dxx7XtE8xcbL"
      },
      "execution_count": 20,
      "outputs": []
    },
    {
      "cell_type": "code",
      "source": [
        "# Creating the DataFrame with the metrics\n",
        "metrics_df = pd.DataFrame({\n",
        "    \"Model\": list(models.keys()),\n",
        "    \"Accuracy\": accuracy_scores,\n",
        "    \"Precision\": precision_scores,\n",
        "    \"Recall\": recall_scores,\n",
        "    \"F1 Score\": f1_scores\n",
        "})\n",
        "\n",
        "# Melt the DataFrame for easier plotting with Seaborn\n",
        "metrics_melted = metrics_df.melt(id_vars=\"Model\", var_name=\"Metric\", value_name=\"Score\")\n"
      ],
      "metadata": {
        "id": "9aVwqqf7xd9C"
      },
      "execution_count": 21,
      "outputs": []
    },
    {
      "cell_type": "code",
      "source": [
        "# Plotting the metrics\n",
        "plt.figure(figsize=(12, 8))\n",
        "sns.barplot(data=metrics_melted, x=\"Model\", y=\"Score\", hue=\"Metric\", palette=\"viridis\")\n",
        "plt.title(\"Model Metrics Comparison\")\n",
        "plt.xlabel(\"Model\")\n",
        "plt.ylabel(\"Score\")\n",
        "plt.xticks(rotation=45)\n",
        "plt.legend(title=\"Metric\")\n",
        "# plt.show()\n",
        "plt.savefig(os.path.join(output_path, \"urban_metrics.png\"))\n"
      ],
      "metadata": {
        "colab": {
          "base_uri": "https://localhost:8080/",
          "height": 808
        },
        "id": "jgJoeZ3xxfjU",
        "outputId": "c70e224e-5e91-4b80-bb76-06ea4166f376"
      },
      "execution_count": 22,
      "outputs": [
        {
          "output_type": "display_data",
          "data": {
            "text/plain": [
              "<Figure size 1200x800 with 1 Axes>"
            ],
            "image/png": "[encoded data removed]"
          },
          "metadata": {}
        }
      ]
    },
    {
      "cell_type": "code",
      "source": [
        "# Plot confusion matrices\n",
        "fig, axes = plt.subplots(1, 3, figsize=(18, 6))\n",
        "for i, (model_name, cm) in enumerate(conf_matrices.items()):\n",
        "    sns.heatmap(cm, annot=True, fmt='d', cmap=\"Blues\", ax=axes[i], cbar=False)\n",
        "    axes[i].set_title(f\"Confusion Matrix: {model_name}\")\n",
        "    axes[i].set_xlabel(\"Predicted\")\n",
        "    axes[i].set_ylabel(\"Ground Truth\")\n",
        "\n",
        "plt.tight_layout()\n",
        "# plt.show()\n",
        "plt.savefig(os.path.join(output_path, \"urban_metrix.png\"))\n"
      ],
      "metadata": {
        "colab": {
          "base_uri": "https://localhost:8080/",
          "height": 607
        },
        "id": "NWAa8RvBxg-B",
        "outputId": "ce479c4d-fe3f-443d-f01d-7ae0653fb708"
      },
      "execution_count": 23,
      "outputs": [
        {
          "output_type": "display_data",
          "data": {
            "text/plain": [
              "<Figure size 1800x600 with 3 Axes>"
            ],
            "image/png": "[encoded data removed]"
          },
          "metadata": {}
        }
      ]
    },
    {
      "cell_type": "code",
      "source": [
        "# Display classification reports\n",
        "for model_name, report in class_reports.items():\n",
        "    print(f\"\\nClassification Report for {model_name}:\\n{report}\")"
      ],
      "metadata": {
        "colab": {
          "base_uri": "https://localhost:8080/"
        },
        "id": "o41-GY1zxiDF",
        "outputId": "43574105-8ca2-4f8b-a920-12b49dc877bb"
      },
      "execution_count": 24,
      "outputs": [
        {
          "output_type": "stream",
          "name": "stdout",
          "text": [
            "\n",
            "Classification Report for Logistic Regression:\n",
            "              precision    recall  f1-score   support\n",
            "\n",
            "           0       1.00      1.00      1.00       203\n",
            "           1       1.00      0.76      0.86        86\n",
            "           2       0.90      1.00      0.95       183\n",
            "           3       0.95      1.00      0.97       201\n",
            "           4       0.99      0.95      0.97       206\n",
            "           5       0.85      0.99      0.92       193\n",
            "           6       0.94      0.47      0.63        72\n",
            "           7       0.97      0.93      0.95       208\n",
            "           8       0.92      0.99      0.95       165\n",
            "           9       1.00      1.00      1.00       230\n",
            "\n",
            "    accuracy                           0.95      1747\n",
            "   macro avg       0.95      0.91      0.92      1747\n",
            "weighted avg       0.95      0.95      0.95      1747\n",
            "\n",
            "\n",
            "Classification Report for Decision Tree:\n",
            "              precision    recall  f1-score   support\n",
            "\n",
            "           0       1.00      1.00      1.00       203\n",
            "           1       1.00      1.00      1.00        86\n",
            "           2       1.00      1.00      1.00       183\n",
            "           3       1.00      1.00      1.00       201\n",
            "           4       1.00      1.00      1.00       206\n",
            "           5       1.00      1.00      1.00       193\n",
            "           6       1.00      1.00      1.00        72\n",
            "           7       1.00      1.00      1.00       208\n",
            "           8       1.00      1.00      1.00       165\n",
            "           9       1.00      1.00      1.00       230\n",
            "\n",
            "    accuracy                           1.00      1747\n",
            "   macro avg       1.00      1.00      1.00      1747\n",
            "weighted avg       1.00      1.00      1.00      1747\n",
            "\n",
            "\n",
            "Classification Report for Random Forest:\n",
            "              precision    recall  f1-score   support\n",
            "\n",
            "           0       1.00      1.00      1.00       203\n",
            "           1       1.00      0.99      0.99        86\n",
            "           2       0.99      1.00      1.00       183\n",
            "           3       1.00      1.00      1.00       201\n",
            "           4       1.00      1.00      1.00       206\n",
            "           5       1.00      1.00      1.00       193\n",
            "           6       1.00      1.00      1.00        72\n",
            "           7       1.00      1.00      1.00       208\n",
            "           8       1.00      0.99      1.00       165\n",
            "           9       1.00      1.00      1.00       230\n",
            "\n",
            "    accuracy                           1.00      1747\n",
            "   macro avg       1.00      1.00      1.00      1747\n",
            "weighted avg       1.00      1.00      1.00      1747\n",
            "\n"
          ]
        }
      ]
    }
  ]
}