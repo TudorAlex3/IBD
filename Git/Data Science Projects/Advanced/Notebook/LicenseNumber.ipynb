{
  "nbformat": 4,
  "nbformat_minor": 0,
  "metadata": {
    "colab": {
      "provenance": []
    },
    "kernelspec": {
      "name": "python3",
      "display_name": "Python 3"
    },
    "language_info": {
      "name": "python"
    }
  },
  "cells": [
    {
      "cell_type": "code",
      "execution_count": 1,
      "metadata": {
        "id": "Bzu6ZbVwxuDV"
      },
      "outputs": [],
      "source": [
        "import pandas as pd\n",
        "import numpy as np\n",
        "import matplotlib.pyplot as plt\n",
        "import seaborn as sns\n",
        "from sklearn.model_selection import train_test_split\n",
        "from sklearn.preprocessing import LabelEncoder, StandardScaler\n",
        "from sklearn.linear_model import LogisticRegression\n",
        "from sklearn.tree import DecisionTreeClassifier\n",
        "from sklearn.ensemble import RandomForestClassifier\n",
        "from sklearn.metrics import accuracy_score, confusion_matrix, classification_report\n",
        "from sklearn.metrics import precision_score, recall_score, f1_score, roc_auc_score\n",
        "from sklearn.datasets import load_iris\n",
        "import os\n",
        "import warnings\n",
        "warnings.filterwarnings(\"ignore\")\n"
      ]
    },
    {
      "cell_type": "code",
      "source": [
        "# Step 1: Load the dataset\n",
        "\n",
        "file_path = \"/content/drive/MyDrive/Data Science Projects/App/app/static/license_number.csv\"\n",
        "data = pd.read_csv(file_path)\n",
        "output_path = os.path.join(\"/content/drive/MyDrive/Data Science Projects/App/app/static\")\n",
        "os.makedirs(output_path, exist_ok=True)"
      ],
      "metadata": {
        "id": "ZQkwt6APx5MY"
      },
      "execution_count": 2,
      "outputs": []
    },
    {
      "cell_type": "code",
      "source": [
        "# Step 2: Explore the data\n",
        "\n",
        "print(\"Data Head:\\n\", data.head())\n",
        "print(\"\\nData Info:\\n\", data.info())\n",
        "print(\"\\nData Description:\\n\", data.describe())\n"
      ],
      "metadata": {
        "colab": {
          "base_uri": "https://localhost:8080/"
        },
        "id": "06nn4nMByCp3",
        "outputId": "665e5f9e-34a7-49fb-f0f0-2b9e25221b20"
      },
      "execution_count": 3,
      "outputs": [
        {
          "output_type": "stream",
          "name": "stdout",
          "text": [
            "Data Head:\n",
            "   model    year  price transmission mileage fuelType    tax   mpg  engineSize  \\\n",
            "0    A1  2017.0  12500       Manual   15735   Petrol  150.0  55.4         1.4   \n",
            "1    A6  2016.0  16500    Automatic   36203   Diesel   20.0  64.2         2.0   \n",
            "2    A1  2016.0  11000       Manual   29946   Petrol   30.0  55.4         1.4   \n",
            "3    A4  2017.0  16800    Automatic   25952   Diesel  145.0  67.3         2.0   \n",
            "4    A3  2019.0  17300       Manual    1998   Petrol  145.0  49.6         1.0   \n",
            "\n",
            "   tax(£) fuel type engine size mileage2 fuel type2 engine size2 reference  \n",
            "0     NaN       NaN         NaN      NaN        NaN          NaN       NaN  \n",
            "1     NaN       NaN         NaN      NaN        NaN          NaN       NaN  \n",
            "2     NaN       NaN         NaN      NaN        NaN          NaN       NaN  \n",
            "3     NaN       NaN         NaN      NaN        NaN          NaN       NaN  \n",
            "4     NaN       NaN         NaN      NaN        NaN          NaN       NaN  \n",
            "<class 'pandas.core.frame.DataFrame'>\n",
            "RangeIndex: 118150 entries, 0 to 118149\n",
            "Data columns (total 16 columns):\n",
            " #   Column        Non-Null Count   Dtype  \n",
            "---  ------        --------------   -----  \n",
            " 0   model         117995 non-null  object \n",
            " 1   year          117903 non-null  float64\n",
            " 2   price         117995 non-null  object \n",
            " 3   transmission  117995 non-null  object \n",
            " 4   mileage       117077 non-null  object \n",
            " 5   fuelType      108540 non-null  object \n",
            " 6   tax           94327 non-null   float64\n",
            " 7   mpg           99187 non-null   float64\n",
            " 8   engineSize    108540 non-null  float64\n",
            " 9   tax(£)        4860 non-null    float64\n",
            " 10  fuel type     3517 non-null    object \n",
            " 11  engine size   9345 non-null    object \n",
            " 12  mileage2      9399 non-null    object \n",
            " 13  fuel type2    8537 non-null    object \n",
            " 14  engine size2  8537 non-null    object \n",
            " 15  reference     9455 non-null    object \n",
            "dtypes: float64(5), object(11)\n",
            "memory usage: 14.4+ MB\n",
            "\n",
            "Data Info:\n",
            " None\n",
            "\n",
            "Data Description:\n",
            "                 year           tax           mpg     engineSize       tax(£)\n",
            "count  117903.000000  94327.000000  99187.000000  108540.000000  4860.000000\n",
            "mean     2017.106452    120.256183     55.166825       1.661644   121.147119\n",
            "std         2.135852     63.404805     16.138522       0.557058    58.003289\n",
            "min      1970.000000      0.000000      0.300000       0.000000     0.000000\n",
            "25%      2016.000000    125.000000     47.100000       1.200000   125.000000\n",
            "50%      2017.000000    145.000000     54.300000       1.600000   145.000000\n",
            "75%      2019.000000    145.000000     62.800000       2.000000   145.000000\n",
            "max      2060.000000    580.000000    470.800000       6.600000   555.000000\n"
          ]
        }
      ]
    },
    {
      "cell_type": "code",
      "source": [
        "# Step 3: Column details\n",
        "\n",
        "print(\"\\nColumn Details:\")\n",
        "for col in data.columns:\n",
        "    print(f\"Column: {col}, Type: {data[col].dtype}, Unique values: {data[col].nunique()}\")\n"
      ],
      "metadata": {
        "colab": {
          "base_uri": "https://localhost:8080/"
        },
        "id": "3C37X726yDx9",
        "outputId": "c208dc95-11e8-4206-a42f-eccb3f41e532"
      },
      "execution_count": 4,
      "outputs": [
        {
          "output_type": "stream",
          "name": "stdout",
          "text": [
            "\n",
            "Column Details:\n",
            "Column: model, Type: object, Unique values: 196\n",
            "Column: year, Type: float64, Unique values: 29\n",
            "Column: price, Type: object, Unique values: 19589\n",
            "Column: transmission, Type: object, Unique values: 4\n",
            "Column: mileage, Type: object, Unique values: 59829\n",
            "Column: fuelType, Type: object, Unique values: 5\n",
            "Column: tax, Type: float64, Unique values: 48\n",
            "Column: mpg, Type: float64, Unique values: 208\n",
            "Column: engineSize, Type: float64, Unique values: 42\n",
            "Column: tax(£), Type: float64, Unique values: 24\n",
            "Column: fuel type, Type: object, Unique values: 43\n",
            "Column: engine size, Type: object, Unique values: 68\n",
            "Column: mileage2, Type: object, Unique values: 313\n",
            "Column: fuel type2, Type: object, Unique values: 4\n",
            "Column: engine size2, Type: object, Unique values: 82\n",
            "Column: reference, Type: object, Unique values: 9455\n"
          ]
        }
      ]
    },
    {
      "cell_type": "code",
      "source": [
        "# Step 4: Visualize histograms for each numerical column\n",
        "\n",
        "data.hist(bins=15, figsize=(10, 8))\n",
        "plt.suptitle(\"Histograms for Numerical Columns\")\n",
        "# plt.show()\n",
        "plt.savefig(os.path.join(output_path, \"license_histograms.png\"))\n"
      ],
      "metadata": {
        "colab": {
          "base_uri": "https://localhost:8080/",
          "height": 756
        },
        "id": "E8R6y0ziyFB9",
        "outputId": "38c911db-8646-4cb6-f9d9-4416b7c4fba3"
      },
      "execution_count": 5,
      "outputs": [
        {
          "output_type": "display_data",
          "data": {
            "text/plain": [
              "<Figure size 1000x800 with 6 Axes>"
            ],
            "image/png": "[encoded data removed]"
          },
          "metadata": {}
        }
      ]
    },
    {
      "cell_type": "code",
      "source": [
        "# Step 5: Handle missing values\n",
        "\n",
        "# Display the number of missing values per column\n",
        "print(\"Number of missing values in each column before filling:\")\n",
        "print(data.isnull().sum())"
      ],
      "metadata": {
        "colab": {
          "base_uri": "https://localhost:8080/"
        },
        "id": "Gx9P4BEvyGeH",
        "outputId": "35c9b397-34e9-4f05-82b1-7cb867b7b07d"
      },
      "execution_count": 6,
      "outputs": [
        {
          "output_type": "stream",
          "name": "stdout",
          "text": [
            "Number of missing values in each column before filling:\n",
            "model              155\n",
            "year               247\n",
            "price              155\n",
            "transmission       155\n",
            "mileage           1073\n",
            "fuelType          9610\n",
            "tax              23823\n",
            "mpg              18963\n",
            "engineSize        9610\n",
            "tax(£)          113290\n",
            "fuel type       114633\n",
            "engine size     108805\n",
            "mileage2        108751\n",
            "fuel type2      109613\n",
            "engine size2    109613\n",
            "reference       108695\n",
            "dtype: int64\n"
          ]
        }
      ]
    },
    {
      "cell_type": "code",
      "source": [
        "# Save the mean values for numerical columns with missing values\n",
        "mean_values_with_na = data.mean(numeric_only=True)\n",
        "\n",
        "# Save the mode values for categorical columns with missing values\n",
        "mode_values_with_na = data.mode().iloc[0]\n"
      ],
      "metadata": {
        "id": "Kgs7WW7OyIgd"
      },
      "execution_count": 7,
      "outputs": []
    },
    {
      "cell_type": "code",
      "source": [
        "# Fill missing values with the mean of numerical columns and mode of categorical columns\n",
        "for column in data.columns:\n",
        "    if data[column].dtype == 'object':  # Categorical columns\n",
        "        if data[column].isnull().any():\n",
        "            data[column].fillna(mode_values_with_na[column], inplace=True)\n",
        "    else:  # Numerical columns\n",
        "        if data[column].isnull().any():\n",
        "            data[column].fillna(mean_values_with_na[column], inplace=True)\n"
      ],
      "metadata": {
        "id": "W5TXyladyJid"
      },
      "execution_count": 8,
      "outputs": []
    },
    {
      "cell_type": "code",
      "source": [
        "# Display the mean/mode values used to fill each column with missing values\n",
        "print(\"\\nValues used to fill columns with missing values:\")\n",
        "for column in data.columns:\n",
        "    if data[column].dtype == 'object':  # Categorical columns\n",
        "        if column in mode_values_with_na:\n",
        "            print(f\"{column}: {mode_values_with_na[column]}\")\n",
        "    else:  # Numerical columns\n",
        "        if column in mean_values_with_na:\n",
        "            print(f\"{column}: {mean_values_with_na[column]}\")\n"
      ],
      "metadata": {
        "colab": {
          "base_uri": "https://localhost:8080/"
        },
        "id": "xt2uL6i4yK05",
        "outputId": "a3f40d69-b1ae-4471-da82-9e4d95e5cc54"
      },
      "execution_count": 9,
      "outputs": [
        {
          "output_type": "stream",
          "name": "stdout",
          "text": [
            "\n",
            "Values used to fill columns with missing values:\n",
            "model:  Focus\n",
            "year: 2017.1064519138613\n",
            "price: 11000\n",
            "transmission: Manual\n",
            "mileage: 1000\n",
            "fuelType: Petrol\n",
            "tax: 120.2561832773225\n",
            "mpg: 55.16682549124381\n",
            "engineSize: 1.6616436336834348\n",
            "tax(£): 121.14711934156378\n",
            "fuel type: Petrol\n",
            "engine size: £145\n",
            "mileage2: 60.1\n",
            "fuel type2: Petrol\n",
            "engine size2: 1\n",
            "reference: /ad/14683175\n"
          ]
        }
      ]
    },
    {
      "cell_type": "code",
      "source": [
        "# Step 6: Identify and remove outliers using IQR (Interquartile Range)\n",
        "\n",
        "# Identifying outliers for each numeric column\n",
        "outlier_columns = []\n",
        "outliers_dict = {}\n",
        "\n",
        "# Iterate over each numeric column in the dataset\n",
        "for feature in data.select_dtypes(include=[np.number]).columns:\n",
        "    # Calculate Q1 (25th percentile), Q3 (75th percentile), and IQR (Interquartile Range)\n",
        "    Q1 = data[feature].quantile(0.25)  # 25th percentile\n",
        "    Q3 = data[feature].quantile(0.75)  # 75th percentile\n",
        "    IQR = Q3 - Q1  # Interquartile Range (difference between Q3 and Q1)\n",
        "\n",
        "    # Identify outliers using the IQR rule: values lower than Q1 - 1.5 * IQR or higher than Q3 + 1.5 * IQR\n",
        "    outlier_mask = (data[feature] < (Q1 - 1.5 * IQR)) | (data[feature] > (Q3 + 1.5 * IQR))\n",
        "\n",
        "    # If there are any outliers for this feature, store them in the outliers_dict\n",
        "    if outlier_mask.any():  # If there is at least one outlier\n",
        "        outliers_dict[feature] = data[outlier_mask]  # Store outliers in the dictionary\n",
        "        outlier_columns.append(feature)  # Add the feature name to the outlier_columns list\n"
      ],
      "metadata": {
        "id": "YKduthqgyM1s"
      },
      "execution_count": 10,
      "outputs": []
    },
    {
      "cell_type": "code",
      "source": [
        "# Generate scatter plots only for the columns that contain outliers\n",
        "for feature in outlier_columns:\n",
        "    plt.figure(figsize=(8, 6))  # Create a figure for the scatter plot\n",
        "\n",
        "    # Plot all data points (excluding outliers) for the feature\n",
        "    non_outliers = data[~outlier_mask]  # Data without outliers\n",
        "    plt.scatter(non_outliers.index, non_outliers[feature], color='skyblue', label=\"Data\", alpha=0.7)\n",
        "\n",
        "    # Plot the outliers in red\n",
        "    outliers = outliers_dict[feature]  # Get the outliers for the current feature\n",
        "    plt.scatter(outliers.index, outliers[feature], color='red', label=\"Outliers\", s=100, marker='X')\n",
        "\n",
        "    # Set title and labels for the plot\n",
        "    plt.title(f\"Scatter Plot for {feature} with Outliers in Red\")\n",
        "    plt.xlabel('Index')\n",
        "    plt.ylabel(feature)\n",
        "    plt.legend()\n",
        "    # plt.show()\n",
        "    plot_filename = f\"license_scatter_{feature}.png\"  # Use feature name in the file\n",
        "    plt.savefig(os.path.join(output_path, plot_filename))\n",
        "\n",
        "    # Print the outliers detected for the current feature\n",
        "    print(f\"\\nOutliers Detected for {feature}:\")\n",
        "    print(outliers)"
      ],
      "metadata": {
        "id": "ZyOrpa75yOt0"
      },
      "execution_count": null,
      "outputs": []
    },
    {
      "cell_type": "code",
      "source": [
        "# Visualize the original data with a pairplot (including outliers)\n",
        "sns.pairplot(data, hue='fuelType', plot_kws={'alpha': 0.5})\n",
        "plt.suptitle(\"Pairplot of Features with fuelType Class Labels (Including Outliers)\", y=1.02)\n",
        "# plt.show()\n",
        "plt.savefig(os.path.join(output_path, \"license_outliers_fuelType.png\"))\n",
        "\n",
        "sns.pairplot(data, hue='transmission', plot_kws={'alpha': 0.5})\n",
        "plt.suptitle(\"Pairplot of Features with transmission Class Labels (Including Outliers)\", y=1.02)\n",
        "# plt.show()\n",
        "plt.savefig(os.path.join(output_path, \"license_outliers_transmission.png\"))\n",
        "\n",
        "sns.pairplot(data, hue='engineSize', plot_kws={'alpha': 0.5})\n",
        "plt.suptitle(\"Pairplot of Features with engineSize Class Labels (Including Outliers)\", y=1.02)\n",
        "# plt.show()\n",
        "plt.savefig(os.path.join(output_path, \"license_outliers_engineSize.png\"))\n"
      ],
      "metadata": {
        "id": "oxql_PtjyP8d"
      },
      "execution_count": null,
      "outputs": []
    },
    {
      "cell_type": "code",
      "source": [
        "# Remove the outliers from the dataset\n",
        "\n",
        "cleaned_data = data.copy()\n",
        "\n",
        "# Loop through outlier columns to remove outliers\n",
        "for feature in outlier_columns:\n",
        "    outliers = outliers_dict[feature]  # Get outliers for the current feature\n",
        "    cleaned_data = cleaned_data[~cleaned_data.index.isin(outliers.index)]  # Remove rows with outliers\n"
      ],
      "metadata": {
        "id": "uTXGIBrZyRH-"
      },
      "execution_count": 11,
      "outputs": []
    },
    {
      "cell_type": "code",
      "source": [
        "# Visualize the cleaned data with a pairplot (after removing outliers)\n",
        "sns.pairplot(cleaned_data, hue='fuelType', plot_kws={'alpha': 0.5})\n",
        "plt.suptitle(\"Pairplot of Features with fuelType Class Labels (After Removing Outliers)\", y=1.02)\n",
        "# plt.show()\n",
        "plt.savefig(os.path.join(output_path, \"license_removed_outliers_fuelType.png\"))\n",
        "\n",
        "sns.pairplot(cleaned_data, hue='transmission', plot_kws={'alpha': 0.5})\n",
        "plt.suptitle(\"Pairplot of Features with transmission Class Labels (After Removing Outliers)\", y=1.02)\n",
        "# plt.show()\n",
        "plt.savefig(os.path.join(output_path, \"license_removed_outliers_transmission.png\"))\n",
        "\n",
        "sns.pairplot(cleaned_data, hue='engineSize', plot_kws={'alpha': 0.5})\n",
        "plt.suptitle(\"Pairplot of Features with engineSize Class Labels (After Removing Outliers)\", y=1.02)\n",
        "# plt.show()\n",
        "plt.savefig(os.path.join(output_path, \"license_removed_outliers_engineSize.png\"))\n"
      ],
      "metadata": {
        "id": "iH7alDFUyTYe"
      },
      "execution_count": null,
      "outputs": []
    },
    {
      "cell_type": "code",
      "source": [
        "# Step 8: Preprocess the data\n",
        "\n",
        "# Encode the target variable\n",
        "label_encoder = LabelEncoder()\n",
        "data['fuelType'] = label_encoder.fit_transform(data['fuelType'])\n"
      ],
      "metadata": {
        "id": "usqLRsnCyUs3"
      },
      "execution_count": 12,
      "outputs": []
    },
    {
      "cell_type": "code",
      "source": [
        "from sklearn.preprocessing import LabelEncoder\n",
        "\n",
        "# Ensure all categorical columns have uniform data types\n",
        "for column in data.select_dtypes(include=['object']).columns:\n",
        "    if column != 'fuelType':  # Avoid encoding the target variable\n",
        "        # Convert all values in the column to strings\n",
        "        data[column] = data[column].astype(str)\n",
        "\n",
        "        # Apply LabelEncoder\n",
        "        label_encoder = LabelEncoder()\n",
        "        data[column] = label_encoder.fit_transform(data[column])\n"
      ],
      "metadata": {
        "id": "Wj8xeq6FyVwI"
      },
      "execution_count": 14,
      "outputs": []
    },
    {
      "cell_type": "code",
      "source": [
        "# Step 10: Define features (X) and target (y)\n",
        "\n",
        "X = data.drop(columns=['fuelType'])  # Features\n",
        "y = data['fuelType']  # Target variable"
      ],
      "metadata": {
        "id": "fcDUBjjByfsw"
      },
      "execution_count": 15,
      "outputs": []
    },
    {
      "cell_type": "code",
      "source": [
        "# Step 11: Split data into training and testing sets\n",
        "\n",
        "X_train, X_test, y_train, y_test = train_test_split(X, y, test_size=0.2, random_state=42)\n"
      ],
      "metadata": {
        "id": "To_Qt0wrygwR"
      },
      "execution_count": 16,
      "outputs": []
    },
    {
      "cell_type": "code",
      "source": [
        "# Step 12: Feature scaling\n",
        "\n",
        "scaler = StandardScaler()\n",
        "X_train = scaler.fit_transform(X_train)\n",
        "X_test = scaler.transform(X_test)\n"
      ],
      "metadata": {
        "id": "cwvEd6TzyiV8"
      },
      "execution_count": 17,
      "outputs": []
    },
    {
      "cell_type": "code",
      "source": [
        "# Step 12: Model selection and training\n",
        "\n",
        "# Logistic Regression\n",
        "logistic_model = LogisticRegression()\n",
        "logistic_model.fit(X_train, y_train)\n",
        "\n",
        "# Decision Tree\n",
        "tree_model = DecisionTreeClassifier(random_state=42)\n",
        "tree_model.fit(X_train, y_train)\n",
        "\n",
        "# Random Forest\n",
        "rf_model = RandomForestClassifier(random_state=42, n_estimators=100)\n",
        "rf_model.fit(X_train, y_train)"
      ],
      "metadata": {
        "colab": {
          "base_uri": "https://localhost:8080/",
          "height": 80
        },
        "id": "lYowhKaXykKo",
        "outputId": "371aab53-952a-46e0-8cb9-a5814d0c46b9"
      },
      "execution_count": 18,
      "outputs": [
        {
          "output_type": "execute_result",
          "data": {
            "text/plain": [
              "RandomForestClassifier(random_state=42)"
            ],
            "text/html": [
              "<style>#sk-container-id-1 {\n",
              "  /* Definition of color scheme common for light and dark mode */\n",
              "  --sklearn-color-text: #000;\n",
              "  --sklearn-color-text-muted: #666;\n",
              "  --sklearn-color-line: gray;\n",
              "  /* Definition of color scheme for unfitted estimators */\n",
              "  --sklearn-color-unfitted-level-0: #fff5e6;\n",
              "  --sklearn-color-unfitted-level-1: #f6e4d2;\n",
              "  --sklearn-color-unfitted-level-2: #ffe0b3;\n",
              "  --sklearn-color-unfitted-level-3: chocolate;\n",
              "  /* Definition of color scheme for fitted estimators */\n",
              "  --sklearn-color-fitted-level-0: #f0f8ff;\n",
              "  --sklearn-color-fitted-level-1: #d4ebff;\n",
              "  --sklearn-color-fitted-level-2: #b3dbfd;\n",
              "  --sklearn-color-fitted-level-3: cornflowerblue;\n",
              "\n",
              "  /* Specific color for light theme */\n",
              "  --sklearn-color-text-on-default-background: var(--sg-text-color, var(--theme-code-foreground, var(--jp-content-font-color1, black)));\n",
              "  --sklearn-color-background: var(--sg-background-color, var(--theme-background, var(--jp-layout-color0, white)));\n",
              "  --sklearn-color-border-box: var(--sg-text-color, var(--theme-code-foreground, var(--jp-content-font-color1, black)));\n",
              "  --sklearn-color-icon: #696969;\n",
              "\n",
              "  @media (prefers-color-scheme: dark) {\n",
              "    /* Redefinition of color scheme for dark theme */\n",
              "    --sklearn-color-text-on-default-background: var(--sg-text-color, var(--theme-code-foreground, var(--jp-content-font-color1, white)));\n",
              "    --sklearn-color-background: var(--sg-background-color, var(--theme-background, var(--jp-layout-color0, #111)));\n",
              "    --sklearn-color-border-box: var(--sg-text-color, var(--theme-code-foreground, var(--jp-content-font-color1, white)));\n",
              "    --sklearn-color-icon: #878787;\n",
              "  }\n",
              "}\n",
              "\n",
              "#sk-container-id-1 {\n",
              "  color: var(--sklearn-color-text);\n",
              "}\n",
              "\n",
              "#sk-container-id-1 pre {\n",
              "  padding: 0;\n",
              "}\n",
              "\n",
              "#sk-container-id-1 input.sk-hidden--visually {\n",
              "  border: 0;\n",
              "  clip: rect(1px 1px 1px 1px);\n",
              "  clip: rect(1px, 1px, 1px, 1px);\n",
              "  height: 1px;\n",
              "  margin: -1px;\n",
              "  overflow: hidden;\n",
              "  padding: 0;\n",
              "  position: absolute;\n",
              "  width: 1px;\n",
              "}\n",
              "\n",
              "#sk-container-id-1 div.sk-dashed-wrapped {\n",
              "  border: 1px dashed var(--sklearn-color-line);\n",
              "  margin: 0 0.4em 0.5em 0.4em;\n",
              "  box-sizing: border-box;\n",
              "  padding-bottom: 0.4em;\n",
              "  background-color: var(--sklearn-color-background);\n",
              "}\n",
              "\n",
              "#sk-container-id-1 div.sk-container {\n",
              "  /* jupyter's `normalize.less` sets `[hidden] { display: none; }`\n",
              "     but bootstrap.min.css set `[hidden] { display: none !important; }`\n",
              "     so we also need the `!important` here to be able to override the\n",
              "     default hidden behavior on the sphinx rendered scikit-learn.org.\n",
              "     See: https://github.com/scikit-learn/scikit-learn/issues/21755 */\n",
              "  display: inline-block !important;\n",
              "  position: relative;\n",
              "}\n",
              "\n",
              "#sk-container-id-1 div.sk-text-repr-fallback {\n",
              "  display: none;\n",
              "}\n",
              "\n",
              "div.sk-parallel-item,\n",
              "div.sk-serial,\n",
              "div.sk-item {\n",
              "  /* draw centered vertical line to link estimators */\n",
              "  background-image: linear-gradient(var(--sklearn-color-text-on-default-background), var(--sklearn-color-text-on-default-background));\n",
              "  background-size: 2px 100%;\n",
              "  background-repeat: no-repeat;\n",
              "  background-position: center center;\n",
              "}\n",
              "\n",
              "/* Parallel-specific style estimator block */\n",
              "\n",
              "#sk-container-id-1 div.sk-parallel-item::after {\n",
              "  content: \"\";\n",
              "  width: 100%;\n",
              "  border-bottom: 2px solid var(--sklearn-color-text-on-default-background);\n",
              "  flex-grow: 1;\n",
              "}\n",
              "\n",
              "#sk-container-id-1 div.sk-parallel {\n",
              "  display: flex;\n",
              "  align-items: stretch;\n",
              "  justify-content: center;\n",
              "  background-color: var(--sklearn-color-background);\n",
              "  position: relative;\n",
              "}\n",
              "\n",
              "#sk-container-id-1 div.sk-parallel-item {\n",
              "  display: flex;\n",
              "  flex-direction: column;\n",
              "}\n",
              "\n",
              "#sk-container-id-1 div.sk-parallel-item:first-child::after {\n",
              "  align-self: flex-end;\n",
              "  width: 50%;\n",
              "}\n",
              "\n",
              "#sk-container-id-1 div.sk-parallel-item:last-child::after {\n",
              "  align-self: flex-start;\n",
              "  width: 50%;\n",
              "}\n",
              "\n",
              "#sk-container-id-1 div.sk-parallel-item:only-child::after {\n",
              "  width: 0;\n",
              "}\n",
              "\n",
              "/* Serial-specific style estimator block */\n",
              "\n",
              "#sk-container-id-1 div.sk-serial {\n",
              "  display: flex;\n",
              "  flex-direction: column;\n",
              "  align-items: center;\n",
              "  background-color: var(--sklearn-color-background);\n",
              "  padding-right: 1em;\n",
              "  padding-left: 1em;\n",
              "}\n",
              "\n",
              "\n",
              "/* Toggleable style: style used for estimator/Pipeline/ColumnTransformer box that is\n",
              "clickable and can be expanded/collapsed.\n",
              "- Pipeline and ColumnTransformer use this feature and define the default style\n",
              "- Estimators will overwrite some part of the style using the `sk-estimator` class\n",
              "*/\n",
              "\n",
              "/* Pipeline and ColumnTransformer style (default) */\n",
              "\n",
              "#sk-container-id-1 div.sk-toggleable {\n",
              "  /* Default theme specific background. It is overwritten whether we have a\n",
              "  specific estimator or a Pipeline/ColumnTransformer */\n",
              "  background-color: var(--sklearn-color-background);\n",
              "}\n",
              "\n",
              "/* Toggleable label */\n",
              "#sk-container-id-1 label.sk-toggleable__label {\n",
              "  cursor: pointer;\n",
              "  display: flex;\n",
              "  width: 100%;\n",
              "  margin-bottom: 0;\n",
              "  padding: 0.5em;\n",
              "  box-sizing: border-box;\n",
              "  text-align: center;\n",
              "  align-items: start;\n",
              "  justify-content: space-between;\n",
              "  gap: 0.5em;\n",
              "}\n",
              "\n",
              "#sk-container-id-1 label.sk-toggleable__label .caption {\n",
              "  font-size: 0.6rem;\n",
              "  font-weight: lighter;\n",
              "  color: var(--sklearn-color-text-muted);\n",
              "}\n",
              "\n",
              "#sk-container-id-1 label.sk-toggleable__label-arrow:before {\n",
              "  /* Arrow on the left of the label */\n",
              "  content: \"▸\";\n",
              "  float: left;\n",
              "  margin-right: 0.25em;\n",
              "  color: var(--sklearn-color-icon);\n",
              "}\n",
              "\n",
              "#sk-container-id-1 label.sk-toggleable__label-arrow:hover:before {\n",
              "  color: var(--sklearn-color-text);\n",
              "}\n",
              "\n",
              "/* Toggleable content - dropdown */\n",
              "\n",
              "#sk-container-id-1 div.sk-toggleable__content {\n",
              "  max-height: 0;\n",
              "  max-width: 0;\n",
              "  overflow: hidden;\n",
              "  text-align: left;\n",
              "  /* unfitted */\n",
              "  background-color: var(--sklearn-color-unfitted-level-0);\n",
              "}\n",
              "\n",
              "#sk-container-id-1 div.sk-toggleable__content.fitted {\n",
              "  /* fitted */\n",
              "  background-color: var(--sklearn-color-fitted-level-0);\n",
              "}\n",
              "\n",
              "#sk-container-id-1 div.sk-toggleable__content pre {\n",
              "  margin: 0.2em;\n",
              "  border-radius: 0.25em;\n",
              "  color: var(--sklearn-color-text);\n",
              "  /* unfitted */\n",
              "  background-color: var(--sklearn-color-unfitted-level-0);\n",
              "}\n",
              "\n",
              "#sk-container-id-1 div.sk-toggleable__content.fitted pre {\n",
              "  /* unfitted */\n",
              "  background-color: var(--sklearn-color-fitted-level-0);\n",
              "}\n",
              "\n",
              "#sk-container-id-1 input.sk-toggleable__control:checked~div.sk-toggleable__content {\n",
              "  /* Expand drop-down */\n",
              "  max-height: 200px;\n",
              "  max-width: 100%;\n",
              "  overflow: auto;\n",
              "}\n",
              "\n",
              "#sk-container-id-1 input.sk-toggleable__control:checked~label.sk-toggleable__label-arrow:before {\n",
              "  content: \"▾\";\n",
              "}\n",
              "\n",
              "/* Pipeline/ColumnTransformer-specific style */\n",
              "\n",
              "#sk-container-id-1 div.sk-label input.sk-toggleable__control:checked~label.sk-toggleable__label {\n",
              "  color: var(--sklearn-color-text);\n",
              "  background-color: var(--sklearn-color-unfitted-level-2);\n",
              "}\n",
              "\n",
              "#sk-container-id-1 div.sk-label.fitted input.sk-toggleable__control:checked~label.sk-toggleable__label {\n",
              "  background-color: var(--sklearn-color-fitted-level-2);\n",
              "}\n",
              "\n",
              "/* Estimator-specific style */\n",
              "\n",
              "/* Colorize estimator box */\n",
              "#sk-container-id-1 div.sk-estimator input.sk-toggleable__control:checked~label.sk-toggleable__label {\n",
              "  /* unfitted */\n",
              "  background-color: var(--sklearn-color-unfitted-level-2);\n",
              "}\n",
              "\n",
              "#sk-container-id-1 div.sk-estimator.fitted input.sk-toggleable__control:checked~label.sk-toggleable__label {\n",
              "  /* fitted */\n",
              "  background-color: var(--sklearn-color-fitted-level-2);\n",
              "}\n",
              "\n",
              "#sk-container-id-1 div.sk-label label.sk-toggleable__label,\n",
              "#sk-container-id-1 div.sk-label label {\n",
              "  /* The background is the default theme color */\n",
              "  color: var(--sklearn-color-text-on-default-background);\n",
              "}\n",
              "\n",
              "/* On hover, darken the color of the background */\n",
              "#sk-container-id-1 div.sk-label:hover label.sk-toggleable__label {\n",
              "  color: var(--sklearn-color-text);\n",
              "  background-color: var(--sklearn-color-unfitted-level-2);\n",
              "}\n",
              "\n",
              "/* Label box, darken color on hover, fitted */\n",
              "#sk-container-id-1 div.sk-label.fitted:hover label.sk-toggleable__label.fitted {\n",
              "  color: var(--sklearn-color-text);\n",
              "  background-color: var(--sklearn-color-fitted-level-2);\n",
              "}\n",
              "\n",
              "/* Estimator label */\n",
              "\n",
              "#sk-container-id-1 div.sk-label label {\n",
              "  font-family: monospace;\n",
              "  font-weight: bold;\n",
              "  display: inline-block;\n",
              "  line-height: 1.2em;\n",
              "}\n",
              "\n",
              "#sk-container-id-1 div.sk-label-container {\n",
              "  text-align: center;\n",
              "}\n",
              "\n",
              "/* Estimator-specific */\n",
              "#sk-container-id-1 div.sk-estimator {\n",
              "  font-family: monospace;\n",
              "  border: 1px dotted var(--sklearn-color-border-box);\n",
              "  border-radius: 0.25em;\n",
              "  box-sizing: border-box;\n",
              "  margin-bottom: 0.5em;\n",
              "  /* unfitted */\n",
              "  background-color: var(--sklearn-color-unfitted-level-0);\n",
              "}\n",
              "\n",
              "#sk-container-id-1 div.sk-estimator.fitted {\n",
              "  /* fitted */\n",
              "  background-color: var(--sklearn-color-fitted-level-0);\n",
              "}\n",
              "\n",
              "/* on hover */\n",
              "#sk-container-id-1 div.sk-estimator:hover {\n",
              "  /* unfitted */\n",
              "  background-color: var(--sklearn-color-unfitted-level-2);\n",
              "}\n",
              "\n",
              "#sk-container-id-1 div.sk-estimator.fitted:hover {\n",
              "  /* fitted */\n",
              "  background-color: var(--sklearn-color-fitted-level-2);\n",
              "}\n",
              "\n",
              "/* Specification for estimator info (e.g. \"i\" and \"?\") */\n",
              "\n",
              "/* Common style for \"i\" and \"?\" */\n",
              "\n",
              ".sk-estimator-doc-link,\n",
              "a:link.sk-estimator-doc-link,\n",
              "a:visited.sk-estimator-doc-link {\n",
              "  float: right;\n",
              "  font-size: smaller;\n",
              "  line-height: 1em;\n",
              "  font-family: monospace;\n",
              "  background-color: var(--sklearn-color-background);\n",
              "  border-radius: 1em;\n",
              "  height: 1em;\n",
              "  width: 1em;\n",
              "  text-decoration: none !important;\n",
              "  margin-left: 0.5em;\n",
              "  text-align: center;\n",
              "  /* unfitted */\n",
              "  border: var(--sklearn-color-unfitted-level-1) 1pt solid;\n",
              "  color: var(--sklearn-color-unfitted-level-1);\n",
              "}\n",
              "\n",
              ".sk-estimator-doc-link.fitted,\n",
              "a:link.sk-estimator-doc-link.fitted,\n",
              "a:visited.sk-estimator-doc-link.fitted {\n",
              "  /* fitted */\n",
              "  border: var(--sklearn-color-fitted-level-1) 1pt solid;\n",
              "  color: var(--sklearn-color-fitted-level-1);\n",
              "}\n",
              "\n",
              "/* On hover */\n",
              "div.sk-estimator:hover .sk-estimator-doc-link:hover,\n",
              ".sk-estimator-doc-link:hover,\n",
              "div.sk-label-container:hover .sk-estimator-doc-link:hover,\n",
              ".sk-estimator-doc-link:hover {\n",
              "  /* unfitted */\n",
              "  background-color: var(--sklearn-color-unfitted-level-3);\n",
              "  color: var(--sklearn-color-background);\n",
              "  text-decoration: none;\n",
              "}\n",
              "\n",
              "div.sk-estimator.fitted:hover .sk-estimator-doc-link.fitted:hover,\n",
              ".sk-estimator-doc-link.fitted:hover,\n",
              "div.sk-label-container:hover .sk-estimator-doc-link.fitted:hover,\n",
              ".sk-estimator-doc-link.fitted:hover {\n",
              "  /* fitted */\n",
              "  background-color: var(--sklearn-color-fitted-level-3);\n",
              "  color: var(--sklearn-color-background);\n",
              "  text-decoration: none;\n",
              "}\n",
              "\n",
              "/* Span, style for the box shown on hovering the info icon */\n",
              ".sk-estimator-doc-link span {\n",
              "  display: none;\n",
              "  z-index: 9999;\n",
              "  position: relative;\n",
              "  font-weight: normal;\n",
              "  right: .2ex;\n",
              "  padding: .5ex;\n",
              "  margin: .5ex;\n",
              "  width: min-content;\n",
              "  min-width: 20ex;\n",
              "  max-width: 50ex;\n",
              "  color: var(--sklearn-color-text);\n",
              "  box-shadow: 2pt 2pt 4pt #999;\n",
              "  /* unfitted */\n",
              "  background: var(--sklearn-color-unfitted-level-0);\n",
              "  border: .5pt solid var(--sklearn-color-unfitted-level-3);\n",
              "}\n",
              "\n",
              ".sk-estimator-doc-link.fitted span {\n",
              "  /* fitted */\n",
              "  background: var(--sklearn-color-fitted-level-0);\n",
              "  border: var(--sklearn-color-fitted-level-3);\n",
              "}\n",
              "\n",
              ".sk-estimator-doc-link:hover span {\n",
              "  display: block;\n",
              "}\n",
              "\n",
              "/* \"?\"-specific style due to the `<a>` HTML tag */\n",
              "\n",
              "#sk-container-id-1 a.estimator_doc_link {\n",
              "  float: right;\n",
              "  font-size: 1rem;\n",
              "  line-height: 1em;\n",
              "  font-family: monospace;\n",
              "  background-color: var(--sklearn-color-background);\n",
              "  border-radius: 1rem;\n",
              "  height: 1rem;\n",
              "  width: 1rem;\n",
              "  text-decoration: none;\n",
              "  /* unfitted */\n",
              "  color: var(--sklearn-color-unfitted-level-1);\n",
              "  border: var(--sklearn-color-unfitted-level-1) 1pt solid;\n",
              "}\n",
              "\n",
              "#sk-container-id-1 a.estimator_doc_link.fitted {\n",
              "  /* fitted */\n",
              "  border: var(--sklearn-color-fitted-level-1) 1pt solid;\n",
              "  color: var(--sklearn-color-fitted-level-1);\n",
              "}\n",
              "\n",
              "/* On hover */\n",
              "#sk-container-id-1 a.estimator_doc_link:hover {\n",
              "  /* unfitted */\n",
              "  background-color: var(--sklearn-color-unfitted-level-3);\n",
              "  color: var(--sklearn-color-background);\n",
              "  text-decoration: none;\n",
              "}\n",
              "\n",
              "#sk-container-id-1 a.estimator_doc_link.fitted:hover {\n",
              "  /* fitted */\n",
              "  background-color: var(--sklearn-color-fitted-level-3);\n",
              "}\n",
              "</style><div id=\"sk-container-id-1\" class=\"sk-top-container\"><div class=\"sk-text-repr-fallback\"><pre>RandomForestClassifier(random_state=42)</pre><b>In a Jupyter environment, please rerun this cell to show the HTML representation or trust the notebook. <br />On GitHub, the HTML representation is unable to render, please try loading this page with nbviewer.org.</b></div><div class=\"sk-container\" hidden><div class=\"sk-item\"><div class=\"sk-estimator fitted sk-toggleable\"><input class=\"sk-toggleable__control sk-hidden--visually\" id=\"sk-estimator-id-1\" type=\"checkbox\" checked><label for=\"sk-estimator-id-1\" class=\"sk-toggleable__label fitted sk-toggleable__label-arrow\"><div><div>RandomForestClassifier</div></div><div><a class=\"sk-estimator-doc-link fitted\" rel=\"noreferrer\" target=\"_blank\" href=\"https://scikit-learn.org/1.6/modules/generated/sklearn.ensemble.RandomForestClassifier.html\">?<span>Documentation for RandomForestClassifier</span></a><span class=\"sk-estimator-doc-link fitted\">i<span>Fitted</span></span></div></label><div class=\"sk-toggleable__content fitted\"><pre>RandomForestClassifier(random_state=42)</pre></div> </div></div></div></div>"
            ]
          },
          "metadata": {},
          "execution_count": 18
        }
      ]
    },
    {
      "cell_type": "code",
      "source": [
        "# Step 13: Model evaluation\n",
        "\n",
        "models = {\n",
        "    \"Logistic Regression\": logistic_model,\n",
        "    \"Decision Tree\": tree_model,\n",
        "    \"Random Forest\": rf_model\n",
        "}"
      ],
      "metadata": {
        "id": "bITFB5uJylb4"
      },
      "execution_count": 19,
      "outputs": []
    },
    {
      "cell_type": "code",
      "source": [
        "# Step 14: Display metrics\n",
        "\n",
        "# Initialize dictionaries for storing metrics\n",
        "accuracy_scores = []\n",
        "precision_scores = []\n",
        "recall_scores = []\n",
        "f1_scores = []\n",
        "conf_matrices = {}\n",
        "class_reports = {}\n",
        "\n",
        "# Calculate metrics for each model\n",
        "for model_name, model in models.items():\n",
        "    pred = model.predict(X_test)\n",
        "    accuracy = accuracy_score(y_test, pred)\n",
        "    precision = precision_score(y_test, pred, average=\"weighted\")\n",
        "    recall = recall_score(y_test, pred, average=\"weighted\")\n",
        "    f1 = f1_score(y_test, pred, average=\"weighted\")\n",
        "\n",
        "    # Append metric scores\n",
        "    accuracy_scores.append(accuracy)\n",
        "    precision_scores.append(precision)\n",
        "    recall_scores.append(recall)\n",
        "    f1_scores.append(f1)\n",
        "\n",
        "    # Store confusion matrices and classification reports if needed\n",
        "    conf_matrices[model_name] = confusion_matrix(y_test, pred)\n",
        "    class_reports[model_name] = classification_report(y_test, pred)\n"
      ],
      "metadata": {
        "id": "dIxMMdiwynFU"
      },
      "execution_count": 20,
      "outputs": []
    },
    {
      "cell_type": "code",
      "source": [
        "# Creating the DataFrame with the metrics\n",
        "metrics_df = pd.DataFrame({\n",
        "    \"Model\": list(models.keys()),\n",
        "    \"Accuracy\": accuracy_scores,\n",
        "    \"Precision\": precision_scores,\n",
        "    \"Recall\": recall_scores,\n",
        "    \"F1 Score\": f1_scores\n",
        "})\n",
        "\n",
        "# Melt the DataFrame for easier plotting with Seaborn\n",
        "metrics_melted = metrics_df.melt(id_vars=\"Model\", var_name=\"Metric\", value_name=\"Score\")\n"
      ],
      "metadata": {
        "id": "__dZQ3ZZyoDh"
      },
      "execution_count": 21,
      "outputs": []
    },
    {
      "cell_type": "code",
      "source": [
        "# Plotting the metrics\n",
        "plt.figure(figsize=(12, 8))\n",
        "sns.barplot(data=metrics_melted, x=\"Model\", y=\"Score\", hue=\"Metric\", palette=\"viridis\")\n",
        "plt.title(\"Model Metrics Comparison\")\n",
        "plt.xlabel(\"Model\")\n",
        "plt.ylabel(\"Score\")\n",
        "plt.xticks(rotation=45)\n",
        "plt.legend(title=\"Metric\")\n",
        "# plt.show()\n",
        "plt.savefig(os.path.join(output_path, \"license_metrics.png\"))\n"
      ],
      "metadata": {
        "colab": {
          "base_uri": "https://localhost:8080/",
          "height": 808
        },
        "id": "VTPDsf0qyp-_",
        "outputId": "51e0b386-5fe9-4b2b-e2dd-ea74466d3581"
      },
      "execution_count": 22,
      "outputs": [
        {
          "output_type": "display_data",
          "data": {
            "text/plain": [
              "<Figure size 1200x800 with 1 Axes>"
            ],
            "image/png": "[encoded data removed]"
          },
          "metadata": {}
        }
      ]
    },
    {
      "cell_type": "code",
      "source": [
        "# Plot confusion matrices\n",
        "fig, axes = plt.subplots(1, 3, figsize=(18, 6))\n",
        "for i, (model_name, cm) in enumerate(conf_matrices.items()):\n",
        "    sns.heatmap(cm, annot=True, fmt='d', cmap=\"Blues\", ax=axes[i], cbar=False)\n",
        "    axes[i].set_title(f\"Confusion Matrix: {model_name}\")\n",
        "    axes[i].set_xlabel(\"Predicted\")\n",
        "    axes[i].set_ylabel(\"Ground Truth\")\n",
        "\n",
        "plt.tight_layout()\n",
        "# plt.show()\n",
        "plt.savefig(os.path.join(output_path, \"license_metrix.png\"))"
      ],
      "metadata": {
        "id": "LliLyLBCyrKx",
        "outputId": "e838ded9-e191-4e22-b1d4-d0210c84cff6",
        "colab": {
          "base_uri": "https://localhost:8080/",
          "height": 607
        }
      },
      "execution_count": 23,
      "outputs": [
        {
          "output_type": "display_data",
          "data": {
            "text/plain": [
              "<Figure size 1800x600 with 3 Axes>"
            ],
            "image/png": "[encoded data removed]"
          },
          "metadata": {}
        }
      ]
    },
    {
      "cell_type": "code",
      "source": [
        "# Display classification reports\n",
        "for model_name, report in class_reports.items():\n",
        "    print(f\"\\nClassification Report for {model_name}:\\n{report}\")"
      ],
      "metadata": {
        "id": "iG1Hap6HyshT",
        "outputId": "4b727120-b116-47b9-9081-379df9d12e94",
        "colab": {
          "base_uri": "https://localhost:8080/"
        }
      },
      "execution_count": 24,
      "outputs": [
        {
          "output_type": "stream",
          "name": "stdout",
          "text": [
            "\n",
            "Classification Report for Logistic Regression:\n",
            "              precision    recall  f1-score   support\n",
            "\n",
            "           0       0.86      0.84      0.85      9047\n",
            "           2       0.92      0.48      0.63       638\n",
            "           3       0.00      0.00      0.00        44\n",
            "           4       0.90      0.93      0.92     13901\n",
            "\n",
            "    accuracy                           0.89     23630\n",
            "   macro avg       0.67      0.56      0.60     23630\n",
            "weighted avg       0.88      0.89      0.88     23630\n",
            "\n",
            "\n",
            "Classification Report for Decision Tree:\n",
            "              precision    recall  f1-score   support\n",
            "\n",
            "           0       0.98      0.98      0.98      9047\n",
            "           1       0.00      0.00      0.00         0\n",
            "           2       0.93      0.92      0.93       638\n",
            "           3       0.28      0.41      0.33        44\n",
            "           4       0.99      0.99      0.99     13901\n",
            "\n",
            "    accuracy                           0.98     23630\n",
            "   macro avg       0.64      0.66      0.64     23630\n",
            "weighted avg       0.98      0.98      0.98     23630\n",
            "\n",
            "\n",
            "Classification Report for Random Forest:\n",
            "              precision    recall  f1-score   support\n",
            "\n",
            "           0       0.98      0.99      0.98      9047\n",
            "           2       0.96      0.93      0.95       638\n",
            "           3       0.61      0.25      0.35        44\n",
            "           4       0.99      0.99      0.99     13901\n",
            "\n",
            "    accuracy                           0.99     23630\n",
            "   macro avg       0.89      0.79      0.82     23630\n",
            "weighted avg       0.98      0.99      0.99     23630\n",
            "\n"
          ]
        }
      ]
    }
  ]
}